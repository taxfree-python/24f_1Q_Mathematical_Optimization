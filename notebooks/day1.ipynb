{
 "cells": [
  {
   "cell_type": "code",
   "execution_count": 2,
   "id": "497a3526-bbde-4b0e-8f8d-29fa52e2a097",
   "metadata": {},
   "outputs": [],
   "source": [
    "import pulp as pl"
   ]
  },
  {
   "cell_type": "code",
   "execution_count": 11,
   "id": "abe1885f-8d6a-4361-8b54-e76e0b74b433",
   "metadata": {},
   "outputs": [
    {
     "name": "stdout",
     "output_type": "stream",
     "text": [
      "Welcome to the CBC MILP Solver \n",
      "Version: 2.10.10 \n",
      "Build Date: Sep 26 2023 \n",
      "\n",
      "command line - /usr/local/lib/python3.10/site-packages/pulp/solverdir/cbc/linux/arm64/cbc /tmp/154ff7239b2441b299fab38c56c46f81-pulp.mps -max -timeMode elapsed -branch -printingOptions all -solution /tmp/154ff7239b2441b299fab38c56c46f81-pulp.sol (default strategy 1)\n",
      "At line 2 NAME          MODEL\n",
      "At line 3 ROWS\n",
      "At line 7 COLUMNS\n",
      "At line 14 RHS\n",
      "At line 17 BOUNDS\n",
      "At line 18 ENDATA\n",
      "Problem MODEL has 2 rows, 2 columns and 4 elements\n",
      "Coin0008I MODEL read with 0 errors\n",
      "Option for timeMode changed from cpu to elapsed\n",
      "Presolve 2 (0) rows, 2 (0) columns and 4 (0) elements\n",
      "0  Obj -0 Dual inf 8.9999998 (2)\n",
      "0  Obj -0 Dual inf 8.9999998 (2)\n",
      "2  Obj 23\n",
      "Optimal - objective value 23\n",
      "Optimal objective 23 - 2 iterations time 0.002\n",
      "Option for printingOptions changed from normal to all\n",
      "Total time (CPU seconds):       0.00   (Wallclock seconds):       0.00\n",
      "\n",
      "Optimal solution:\n",
      "x_1 = 2.0\n",
      "x_2 = 3.0\n",
      "Objective =  23.0\n"
     ]
    }
   ],
   "source": [
    "# 問題の定義\n",
    "prob = pl.LpProblem(\"day1_example\", pl.LpMaximize)\n",
    "\n",
    "# 変数の定義\n",
    "x_1 = pl.LpVariable(\"x_1\", lowBound=0)\n",
    "x_2 = pl.LpVariable(\"x_2\", lowBound=0)\n",
    "\n",
    "# 目的関数の定義\n",
    "prob += 4*x_1 + 5*x_2\n",
    "\n",
    "# 制約条件の定義\n",
    "prob += x_1 + 2*x_2 <= 8\n",
    "prob += 3*x_1 + x_2 <= 9\n",
    "\n",
    "# 問題を解く\n",
    "prob.solve()\n",
    "\n",
    "# 結果の表示\n",
    "print(f\"{pl.LpStatus[prob.status]} solution:\")\n",
    "for v in prob.variables():\n",
    "    print(v.name, \"=\", v.varValue)\n",
    "print(\"Objective = \", pl.value(prob.objective))"
   ]
  },
  {
   "cell_type": "code",
   "execution_count": null,
   "id": "af47823f-9ffc-41fe-81bd-f6ac413c4981",
   "metadata": {},
   "outputs": [],
   "source": []
  }
 ],
 "metadata": {
  "kernelspec": {
   "display_name": "Python 3 (ipykernel)",
   "language": "python",
   "name": "python3"
  },
  "language_info": {
   "codemirror_mode": {
    "name": "ipython",
    "version": 3
   },
   "file_extension": ".py",
   "mimetype": "text/x-python",
   "name": "python",
   "nbconvert_exporter": "python",
   "pygments_lexer": "ipython3",
   "version": "3.10.14"
  }
 },
 "nbformat": 4,
 "nbformat_minor": 5
}
