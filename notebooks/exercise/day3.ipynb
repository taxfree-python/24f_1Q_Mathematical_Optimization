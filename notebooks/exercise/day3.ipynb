{
 "cells": [
  {
   "cell_type": "code",
   "execution_count": 28,
   "id": "5f336dcb-4552-4f71-8a8b-9a0944635edf",
   "metadata": {},
   "outputs": [],
   "source": [
    "import pulp as pl\n",
    "import numpy as np"
   ]
  },
  {
   "cell_type": "code",
   "execution_count": 9,
   "id": "81d8c24b-c883-4fb6-a7b4-4728049531ca",
   "metadata": {},
   "outputs": [
    {
     "name": "stdout",
     "output_type": "stream",
     "text": [
      "Welcome to the CBC MILP Solver \n",
      "Version: 2.10.10 \n",
      "Build Date: Sep 26 2023 \n",
      "\n",
      "command line - /usr/local/lib/python3.10/site-packages/pulp/solverdir/cbc/linux/arm64/cbc /tmp/ddc3e9f63d8944d5b803ebabd4f836eb-pulp.mps -max -timeMode elapsed -branch -printingOptions all -solution /tmp/ddc3e9f63d8944d5b803ebabd4f836eb-pulp.sol (default strategy 1)\n",
      "At line 2 NAME          MODEL\n",
      "At line 3 ROWS\n",
      "At line 7 COLUMNS\n",
      "At line 17 RHS\n",
      "At line 20 BOUNDS\n",
      "At line 21 ENDATA\n",
      "Problem MODEL has 2 rows, 3 columns and 6 elements\n",
      "Coin0008I MODEL read with 0 errors\n",
      "Option for timeMode changed from cpu to elapsed\n",
      "Presolve 2 (0) rows, 3 (0) columns and 6 (0) elements\n",
      "0  Obj -0 Dual inf 3.9999997 (3)\n",
      "0  Obj -0 Dual inf 3.9999997 (3)\n",
      "2  Obj 1.6666667\n",
      "Optimal - objective value 1.6666667\n",
      "Optimal objective 1.666666667 - 2 iterations time 0.002\n",
      "Option for printingOptions changed from normal to all\n",
      "Total time (CPU seconds):       0.00   (Wallclock seconds):       0.00\n",
      "\n",
      "Optimal solution:\n",
      "x_1 = 0.0\n",
      "x_2 = 0.33333333\n",
      "x_3 = 1.3333333\n",
      "Objective =  1.66666663\n"
     ]
    }
   ],
   "source": [
    "# problem 4_2\n",
    "prob = pl.LpProblem(\"day3_exercise_4_2\", pl.LpMaximize)\n",
    "\n",
    "x_1 = pl.LpVariable(\"x_1\", lowBound=0)\n",
    "x_2 = pl.LpVariable(\"x_2\", lowBound=0)\n",
    "x_3 = pl.LpVariable(\"x_3\", lowBound=0)\n",
    "\n",
    "prob += x_1 + x_2 + x_3\n",
    "\n",
    "prob += 2*x_1 + x_2 + 2*x_3 <= 3\n",
    "prob += 4*x_1 + 2*x_2 + x_3 <= 2\n",
    "\n",
    "prob.solve()\n",
    "\n",
    "print(f\"{pl.LpStatus[prob.status]} solution:\")\n",
    "for v in prob.variables():\n",
    "    print(v.name, \"=\", v.varValue)\n",
    "print(\"Objective = \", pl.value(prob.objective))"
   ]
  },
  {
   "cell_type": "code",
   "execution_count": 27,
   "id": "26d18f45-7e7a-435e-83de-2cf5abd62fdf",
   "metadata": {},
   "outputs": [
    {
     "name": "stdout",
     "output_type": "stream",
     "text": [
      "Welcome to the CBC MILP Solver \n",
      "Version: 2.10.10 \n",
      "Build Date: Sep 26 2023 \n",
      "\n",
      "command line - /usr/local/lib/python3.10/site-packages/pulp/solverdir/cbc/linux/arm64/cbc /tmp/36b14479a7ff445e954020cfef2027b2-pulp.mps -timeMode elapsed -branch -printingOptions all -solution /tmp/36b14479a7ff445e954020cfef2027b2-pulp.sol (default strategy 1)\n",
      "At line 2 NAME          MODEL\n",
      "At line 3 ROWS\n",
      "At line 8 COLUMNS\n",
      "At line 17 RHS\n",
      "At line 21 BOUNDS\n",
      "At line 22 ENDATA\n",
      "Problem MODEL has 3 rows, 2 columns and 6 elements\n",
      "Coin0008I MODEL read with 0 errors\n",
      "Option for timeMode changed from cpu to elapsed\n",
      "Presolve 3 (0) rows, 2 (0) columns and 6 (0) elements\n",
      "0  Obj 0 Primal inf 1.2499997 (3)\n",
      "2  Obj 1.6666667\n",
      "Optimal - objective value 1.6666667\n",
      "Optimal objective 1.666666667 - 2 iterations time 0.002\n",
      "Option for printingOptions changed from normal to all\n",
      "Total time (CPU seconds):       0.00   (Wallclock seconds):       0.00\n",
      "\n",
      "Optimal solution:\n",
      "y_1 = 0.33333333\n",
      "y_2 = 0.33333333\n",
      "Objective =  1.6666666499999998\n"
     ]
    }
   ],
   "source": [
    "#problem 4_2 (dual)\n",
    "prob = pl.LpProblem(\"day3_exercise_4_2_dual\", pl.LpMinimize)\n",
    "\n",
    "y_1 = pl.LpVariable(\"y_1\", lowBound=0)\n",
    "y_2 = pl.LpVariable(\"y_2\", lowBound=0)\n",
    "\n",
    "prob += 3*y_1 + 2*y_2\n",
    "\n",
    "prob += 2*y_1 + 4*y_2 >= 1\n",
    "prob += y_1 + 2*y_2 >= 1\n",
    "prob += 2*y_1 + y_2 >= 1\n",
    "\n",
    "prob.solve()\n",
    "\n",
    "print(f\"{pl.LpStatus[prob.status]} solution:\")\n",
    "for v in prob.variables():\n",
    "    print(v.name, \"=\", v.varValue)\n",
    "print(\"Objective = \", pl.value(prob.objective))"
   ]
  },
  {
   "cell_type": "code",
   "execution_count": 8,
   "id": "81f3eaf0-d3d7-43b8-8ee7-effe12c81015",
   "metadata": {},
   "outputs": [
    {
     "name": "stdout",
     "output_type": "stream",
     "text": [
      "Welcome to the CBC MILP Solver \n",
      "Version: 2.10.10 \n",
      "Build Date: Sep 26 2023 \n",
      "\n",
      "command line - /usr/local/lib/python3.10/site-packages/pulp/solverdir/cbc/linux/arm64/cbc /tmp/4b45ffc1e2204fffb76896e1837c616b-pulp.mps -max -timeMode elapsed -branch -printingOptions all -solution /tmp/4b45ffc1e2204fffb76896e1837c616b-pulp.sol (default strategy 1)\n",
      "At line 2 NAME          MODEL\n",
      "At line 3 ROWS\n",
      "At line 7 COLUMNS\n",
      "At line 14 RHS\n",
      "At line 17 BOUNDS\n",
      "At line 18 ENDATA\n",
      "Problem MODEL has 2 rows, 2 columns and 4 elements\n",
      "Coin0008I MODEL read with 0 errors\n",
      "Option for timeMode changed from cpu to elapsed\n",
      "Presolve 2 (0) rows, 2 (0) columns and 4 (0) elements\n",
      "0  Obj -0 Dual inf 8.9999998 (2)\n",
      "0  Obj -0 Dual inf 8.9999998 (2)\n",
      "2  Obj 50.190476\n",
      "Optimal - objective value 50.190476\n",
      "Optimal objective 50.19047619 - 2 iterations time 0.002\n",
      "Option for printingOptions changed from normal to all\n",
      "Total time (CPU seconds):       0.00   (Wallclock seconds):       0.00\n",
      "\n",
      "Optimal solution:\n",
      "x_1 = 8.3809524\n",
      "x_2 = 3.3333333\n",
      "Objective =  50.1904761\n"
     ]
    }
   ],
   "source": [
    "prob = pl.LpProblem('day3_exercise_5_2_1', pl.LpMaximize)\n",
    "\n",
    "x_1 = pl.LpVariable(\"x_1\", lowBound=0)\n",
    "x_2 = pl.LpVariable(\"x_2\", lowBound=0)\n",
    "\n",
    "prob += 4*x_1 + 5*x_2\n",
    "\n",
    "prob += 14*x_1 + 11*x_2  <= 154\n",
    "prob += 7*x_1 + 16*x_2 <= 112\n",
    "\n",
    "prob.solve()\n",
    "\n",
    "print(f\"{pl.LpStatus[prob.status]} solution:\")\n",
    "for v in prob.variables():\n",
    "    print(v.name, \"=\", v.varValue)\n",
    "print(\"Objective = \", pl.value(prob.objective))"
   ]
  },
  {
   "cell_type": "code",
   "execution_count": 15,
   "id": "be044485-4c83-4587-8f71-72af05c00cca",
   "metadata": {},
   "outputs": [
    {
     "data": {
      "text/plain": [
       "array([0.19727891, 0.17687075])"
      ]
     },
     "execution_count": 15,
     "metadata": {},
     "output_type": "execute_result"
    }
   ],
   "source": [
    "c_b = np.array([4, 5])\n",
    "B = np.array([[14, 11], [7, 16]])\n",
    "N = np.array([[1, 0], [0, 1]])\n",
    "c_b @ np.linalg.inv(B) @ N"
   ]
  },
  {
   "cell_type": "code",
   "execution_count": 20,
   "id": "86f768b2-6a98-4866-beb1-f4a37b844cb5",
   "metadata": {},
   "outputs": [
    {
     "data": {
      "text/plain": [
       "array([0.19727891, 0.17687075])"
      ]
     },
     "execution_count": 20,
     "metadata": {},
     "output_type": "execute_result"
    }
   ],
   "source": [
    "c_b = np.array([4, 5])\n",
    "B_prime = np.array([[16/147, -11/147], [-1/21, 2/21]])\n",
    "N = np.array([[1, 0], [0, 1]])\n",
    "c_b @ B_prime"
   ]
  },
  {
   "cell_type": "code",
   "execution_count": 38,
   "id": "e7197344-a77e-43c3-a67b-67e85b67290f",
   "metadata": {},
   "outputs": [
    {
     "data": {
      "text/plain": [
       "1054"
      ]
     },
     "execution_count": 38,
     "metadata": {},
     "output_type": "execute_result"
    }
   ],
   "source": [
    "(4*16*11+7*5*10)"
   ]
  },
  {
   "cell_type": "code",
   "execution_count": 22,
   "id": "48d21983-9370-4489-9ca2-7eff21d0332d",
   "metadata": {},
   "outputs": [
    {
     "data": {
      "text/plain": [
       "8.380952380952381"
      ]
     },
     "execution_count": 22,
     "metadata": {},
     "output_type": "execute_result"
    }
   ],
   "source": [
    "16*11/21"
   ]
  },
  {
   "cell_type": "code",
   "execution_count": 23,
   "id": "d3262112-0f4d-401e-a118-c605f48eace3",
   "metadata": {},
   "outputs": [
    {
     "name": "stdout",
     "output_type": "stream",
     "text": [
      "Welcome to the CBC MILP Solver \n",
      "Version: 2.10.10 \n",
      "Build Date: Sep 26 2023 \n",
      "\n",
      "command line - /usr/local/lib/python3.10/site-packages/pulp/solverdir/cbc/linux/arm64/cbc /tmp/4955f7735eaf418abe675cdb7aa6bd19-pulp.mps -max -timeMode elapsed -branch -printingOptions all -solution /tmp/4955f7735eaf418abe675cdb7aa6bd19-pulp.sol (default strategy 1)\n",
      "At line 2 NAME          MODEL\n",
      "At line 3 ROWS\n",
      "At line 8 COLUMNS\n",
      "At line 17 RHS\n",
      "At line 21 BOUNDS\n",
      "At line 22 ENDATA\n",
      "Problem MODEL has 3 rows, 2 columns and 6 elements\n",
      "Coin0008I MODEL read with 0 errors\n",
      "Option for timeMode changed from cpu to elapsed\n",
      "Presolve 3 (0) rows, 2 (0) columns and 6 (0) elements\n",
      "0  Obj -0 Dual inf 8.9999998 (2)\n",
      "0  Obj -0 Dual inf 8.9999998 (2)\n",
      "2  Obj 18\n",
      "Optimal - objective value 18\n",
      "Optimal objective 18 - 2 iterations time 0.002\n",
      "Option for printingOptions changed from normal to all\n",
      "Total time (CPU seconds):       0.00   (Wallclock seconds):       0.00\n",
      "\n",
      "Optimal solution:\n",
      "x_1 = 2.0\n",
      "x_2 = 2.0\n",
      "Objective =  18.0\n"
     ]
    }
   ],
   "source": [
    "prob = pl.LpProblem('day3_exercise_5_2_2', pl.LpMaximize)\n",
    "\n",
    "x_1 = pl.LpVariable(\"x_1\", lowBound=0)\n",
    "x_2 = pl.LpVariable(\"x_2\", lowBound=0)\n",
    "\n",
    "prob += 4*x_1 + 5*x_2\n",
    "\n",
    "prob += 2*x_1 + x_2  <= 6\n",
    "prob += x_1 + x_2  <= 4\n",
    "prob += x_1 + 2*x_2 <= 6\n",
    "\n",
    "prob.solve()\n",
    "\n",
    "print(f\"{pl.LpStatus[prob.status]} solution:\")\n",
    "for v in prob.variables():\n",
    "    print(v.name, \"=\", v.varValue)\n",
    "print(\"Objective = \", pl.value(prob.objective))"
   ]
  },
  {
   "cell_type": "code",
   "execution_count": 41,
   "id": "f9c8efde-9b42-4e9c-826e-a3e470072bf3",
   "metadata": {},
   "outputs": [
    {
     "data": {
      "text/plain": [
       "array([ 8.66666667, 18.        ,  9.33333333])"
      ]
     },
     "execution_count": 41,
     "metadata": {},
     "output_type": "execute_result"
    }
   ],
   "source": [
    "c_b = np.array([4, 0, 5])\n",
    "B = np.array([[2, 0, -1], [-1, 1, -1], [-1, 0, 2]])\n",
    "b = np.array([6, 4, 6]).T\n",
    "1/3 * c_b * np.linalg.inv(B) @ b"
   ]
  },
  {
   "cell_type": "code",
   "execution_count": 29,
   "id": "c94ae6db-907c-4edc-b38c-62adc2777cfa",
   "metadata": {},
   "outputs": [
    {
     "name": "stdout",
     "output_type": "stream",
     "text": [
      "Welcome to the CBC MILP Solver \n",
      "Version: 2.10.10 \n",
      "Build Date: Sep 26 2023 \n",
      "\n",
      "command line - /usr/local/lib/python3.10/site-packages/pulp/solverdir/cbc/linux/arm64/cbc /tmp/ed39b07afe5347d7be7d6a045ba0f7db-pulp.mps -max -timeMode elapsed -branch -printingOptions all -solution /tmp/ed39b07afe5347d7be7d6a045ba0f7db-pulp.sol (default strategy 1)\n",
      "At line 2 NAME          MODEL\n",
      "At line 3 ROWS\n",
      "At line 7 COLUMNS\n",
      "At line 14 RHS\n",
      "At line 17 BOUNDS\n",
      "At line 18 ENDATA\n",
      "Problem MODEL has 2 rows, 2 columns and 4 elements\n",
      "Coin0008I MODEL read with 0 errors\n",
      "Option for timeMode changed from cpu to elapsed\n",
      "Presolve 0 (-2) rows, 0 (-2) columns and 0 (-4) elements\n",
      "Empty problem - 0 rows, 0 columns and 0 elements\n",
      "Optimal - objective value 5.6666667\n",
      "After Postsolve, objective 5.6666667, infeasibilities - dual 0 (0), primal 0 (0)\n",
      "Optimal objective 5.666666667 - 0 iterations time 0.002, Presolve 0.00\n",
      "Option for printingOptions changed from normal to all\n",
      "Total time (CPU seconds):       0.00   (Wallclock seconds):       0.00\n",
      "\n",
      "Optimal solution:\n",
      "x_1 = 0.33333333\n",
      "x_2 = 2.6666667\n",
      "Objective =  5.66666673\n"
     ]
    }
   ],
   "source": [
    "# original\n",
    "prob = pl.LpProblem('day3_exercise_original', pl.LpMaximize)\n",
    "\n",
    "x_1 = pl.LpVariable(\"x_1\", lowBound=0)\n",
    "x_2 = pl.LpVariable(\"x_2\", lowBound=0)\n",
    "\n",
    "prob += x_1 + 2*x_2\n",
    "\n",
    "prob += -2*x_1 + x_2  <= 2\n",
    "prob += x_1 + x_2  <= 3\n",
    "\n",
    "prob.solve()\n",
    "\n",
    "print(f\"{pl.LpStatus[prob.status]} solution:\")\n",
    "for v in prob.variables():\n",
    "    print(v.name, \"=\", v.varValue)\n",
    "print(\"Objective = \", pl.value(prob.objective))"
   ]
  },
  {
   "cell_type": "code",
   "execution_count": 33,
   "id": "6df65b1c-d3ec-4c79-ad01-52ded816474f",
   "metadata": {},
   "outputs": [
    {
     "name": "stdout",
     "output_type": "stream",
     "text": [
      "Welcome to the CBC MILP Solver \n",
      "Version: 2.10.10 \n",
      "Build Date: Sep 26 2023 \n",
      "\n",
      "command line - /usr/local/lib/python3.10/site-packages/pulp/solverdir/cbc/linux/arm64/cbc /tmp/b417c318b2974306a4f7d1a9231408e2-pulp.mps -timeMode elapsed -branch -printingOptions all -solution /tmp/b417c318b2974306a4f7d1a9231408e2-pulp.sol (default strategy 1)\n",
      "At line 2 NAME          MODEL\n",
      "At line 3 ROWS\n",
      "At line 7 COLUMNS\n",
      "At line 14 RHS\n",
      "At line 17 BOUNDS\n",
      "At line 18 ENDATA\n",
      "Problem MODEL has 2 rows, 2 columns and 4 elements\n",
      "Coin0008I MODEL read with 0 errors\n",
      "Option for timeMode changed from cpu to elapsed\n",
      "Presolve 2 (0) rows, 2 (0) columns and 4 (0) elements\n",
      "0  Obj 0 Primal inf 2.9999998 (2)\n",
      "2  Obj 5.6666667\n",
      "Optimal - objective value 5.6666667\n",
      "Optimal objective 5.666666667 - 2 iterations time 0.002\n",
      "Option for printingOptions changed from normal to all\n",
      "Total time (CPU seconds):       0.00   (Wallclock seconds):       0.00\n",
      "\n",
      "Optimal solution:\n",
      "x_1 = 0.33333333\n",
      "x_2 = 1.6666667\n",
      "Objective =  5.666666759999999\n"
     ]
    }
   ],
   "source": [
    "# original\n",
    "prob = pl.LpProblem('day3_exercise_original_dual', pl.LpMinimize)\n",
    "\n",
    "x_1 = pl.LpVariable(\"x_1\", lowBound=0)\n",
    "x_2 = pl.LpVariable(\"x_2\", lowBound=0)\n",
    "\n",
    "prob += 2*x_1 + 3*x_2\n",
    "\n",
    "prob += -2*x_1 + x_2  >= 1\n",
    "prob += x_1 + x_2  >= 2\n",
    "\n",
    "prob.solve()\n",
    "\n",
    "print(f\"{pl.LpStatus[prob.status]} solution:\")\n",
    "for v in prob.variables():\n",
    "    print(v.name, \"=\", v.varValue)\n",
    "print(\"Objective = \", pl.value(prob.objective))"
   ]
  },
  {
   "cell_type": "code",
   "execution_count": null,
   "id": "e5ee7324-1136-48f2-8ba7-1de2804a2fd1",
   "metadata": {},
   "outputs": [],
   "source": []
  }
 ],
 "metadata": {
  "kernelspec": {
   "display_name": "Python 3 (ipykernel)",
   "language": "python",
   "name": "python3"
  },
  "language_info": {
   "codemirror_mode": {
    "name": "ipython",
    "version": 3
   },
   "file_extension": ".py",
   "mimetype": "text/x-python",
   "name": "python",
   "nbconvert_exporter": "python",
   "pygments_lexer": "ipython3",
   "version": "3.10.14"
  }
 },
 "nbformat": 4,
 "nbformat_minor": 5
}
