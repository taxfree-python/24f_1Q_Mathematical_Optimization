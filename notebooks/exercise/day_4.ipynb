{
 "cells": [
  {
   "cell_type": "code",
   "execution_count": 5,
   "id": "5f305895-94e5-44f7-9584-c04f92abd2b1",
   "metadata": {},
   "outputs": [],
   "source": [
    "import pulp as pl\n",
    "import numpy as np"
   ]
  },
  {
   "cell_type": "code",
   "execution_count": 2,
   "id": "27f33675-7536-4689-b6dc-aa89a7e7eac0",
   "metadata": {},
   "outputs": [
    {
     "name": "stdout",
     "output_type": "stream",
     "text": [
      "Welcome to the CBC MILP Solver \n",
      "Version: 2.10.10 \n",
      "Build Date: Sep 26 2023 \n",
      "\n",
      "command line - /usr/local/lib/python3.10/site-packages/pulp/solverdir/cbc/linux/arm64/cbc /tmp/b7174e448a3549d6804163a7d5c142e2-pulp.mps -max -timeMode elapsed -branch -printingOptions all -solution /tmp/b7174e448a3549d6804163a7d5c142e2-pulp.sol (default strategy 1)\n",
      "At line 2 NAME          MODEL\n",
      "At line 3 ROWS\n",
      "At line 7 COLUMNS\n",
      "At line 17 RHS\n",
      "At line 20 BOUNDS\n",
      "At line 21 ENDATA\n",
      "Problem MODEL has 2 rows, 3 columns and 6 elements\n",
      "Coin0008I MODEL read with 0 errors\n",
      "Option for timeMode changed from cpu to elapsed\n",
      "Presolve 2 (0) rows, 3 (0) columns and 6 (0) elements\n",
      "0  Obj -0 Dual inf 13.666666 (2)\n",
      "0  Obj -0 Dual inf 13.666666 (2)\n",
      "1  Obj 7\n",
      "Optimal - objective value 7\n",
      "Optimal objective 7 - 1 iterations time 0.002\n",
      "Option for printingOptions changed from normal to all\n",
      "Total time (CPU seconds):       0.00   (Wallclock seconds):       0.00\n",
      "\n",
      "Optimal solution:\n",
      "x_1 = 0.0\n",
      "x_2 = 0.0\n",
      "x_3 = 1.0\n",
      "Objective =  7.0\n"
     ]
    }
   ],
   "source": [
    "# problem 6_2\n",
    "prob = pl.LpProblem(\"day4_exercise_6_2\", pl.LpMaximize)\n",
    "\n",
    "x_1 = pl.LpVariable(\"x_1\", lowBound=0)\n",
    "x_2 = pl.LpVariable(\"x_2\", lowBound=0)\n",
    "x_3 = pl.LpVariable(\"x_3\", lowBound=0)\n",
    "\n",
    "prob += 4*x_1 + (-13)*x_2 + 7*x_3\n",
    "\n",
    "prob += 3*x_1 + 2*x_2 + 5*x_3 <= 5\n",
    "prob += x_1 + (-3)*x_2 + 2*x_3 <= 3\n",
    "\n",
    "prob.solve()\n",
    "\n",
    "print(f\"{pl.LpStatus[prob.status]} solution:\")\n",
    "for v in prob.variables():\n",
    "    print(v.name, \"=\", v.varValue)\n",
    "print(\"Objective = \", pl.value(prob.objective))"
   ]
  },
  {
   "cell_type": "code",
   "execution_count": 4,
   "id": "715f9835-2174-474d-ba9e-ea767e196ac6",
   "metadata": {},
   "outputs": [
    {
     "name": "stdout",
     "output_type": "stream",
     "text": [
      "Welcome to the CBC MILP Solver \n",
      "Version: 2.10.10 \n",
      "Build Date: Sep 26 2023 \n",
      "\n",
      "command line - /usr/local/lib/python3.10/site-packages/pulp/solverdir/cbc/linux/arm64/cbc /tmp/ceeb9ccd570441608bb72d96fa8e50ec-pulp.mps -max -timeMode elapsed -branch -printingOptions all -solution /tmp/ceeb9ccd570441608bb72d96fa8e50ec-pulp.sol (default strategy 1)\n",
      "At line 2 NAME          MODEL\n",
      "At line 3 ROWS\n",
      "At line 7 COLUMNS\n",
      "At line 19 RHS\n",
      "At line 22 BOUNDS\n",
      "At line 23 ENDATA\n",
      "Problem MODEL has 2 rows, 5 columns and 8 elements\n",
      "Coin0008I MODEL read with 0 errors\n",
      "Option for timeMode changed from cpu to elapsed\n",
      "Presolve 2 (0) rows, 3 (-2) columns and 6 (-2) elements\n",
      "0  Obj -0 Dual inf 13.666665 (2)\n",
      "1  Obj 7\n",
      "Optimal - objective value 7\n",
      "After Postsolve, objective 7, infeasibilities - dual 0 (0), primal 0 (0)\n",
      "Optimal objective 7 - 1 iterations time 0.002, Presolve 0.00\n",
      "Option for printingOptions changed from normal to all\n",
      "Total time (CPU seconds):       0.00   (Wallclock seconds):       0.00\n",
      "\n",
      "Optimal solution:\n",
      "s_1 = 0.0\n",
      "s_2 = 1.0\n",
      "x_1 = 0.0\n",
      "x_2 = 0.0\n",
      "x_3 = 1.0\n",
      "Objective =  7.0\n"
     ]
    }
   ],
   "source": [
    "# problem 6_2\n",
    "prob = pl.LpProblem(\"day4_exercise_6_2\", pl.LpMaximize)\n",
    "\n",
    "x_1 = pl.LpVariable(\"x_1\", lowBound=0)\n",
    "x_2 = pl.LpVariable(\"x_2\", lowBound=0)\n",
    "x_3 = pl.LpVariable(\"x_3\", lowBound=0)\n",
    "s_1 = pl.LpVariable(\"s_1\", lowBound=0)\n",
    "s_2 = pl.LpVariable(\"s_2\", lowBound=0)\n",
    "\n",
    "prob += 4*x_1 + (-13)*x_2 + 7*x_3\n",
    "\n",
    "prob += 3*x_1 + 2*x_2 + 5*x_3 + s_1 == 5\n",
    "prob += x_1 + (-3)*x_2 + 2*x_3 + s_2 == 3\n",
    "\n",
    "prob.solve()\n",
    "\n",
    "print(f\"{pl.LpStatus[prob.status]} solution:\")\n",
    "for v in prob.variables():\n",
    "    print(v.name, \"=\", v.varValue)\n",
    "print(\"Objective = \", pl.value(prob.objective))"
   ]
  },
  {
   "cell_type": "code",
   "execution_count": 18,
   "id": "90bfef2b-20ae-48a8-b112-300ad62d9002",
   "metadata": {},
   "outputs": [
    {
     "name": "stdout",
     "output_type": "stream",
     "text": [
      "B^-1b = [1. 1.]\n",
      "1/5 * B^-1 N = [[  3.   2.   1.]\n",
      " [ -1. -19.  -2.]]\n",
      "c_b * b^-1 b = 7.000000000000001\n",
      "1/5 *( c_n - c_b * B^-1 N) = [ -1. -79.  -7.]\n"
     ]
    }
   ],
   "source": [
    "c_b = np.array([7, 0])\n",
    "c_n = np.array([4 ,-13, 0])\n",
    "B = np.array([[5, 0], [2, 1]])\n",
    "N = ([[3, 2, 1], [1, -3, 0]])\n",
    "b = np.array([5, 3]).T\n",
    "B_inv = np.linalg.inv(B)\n",
    "\n",
    "print(f'B^{-1}b = {B_inv @ b}')\n",
    "print(f'1/5 * B^{-1} N = {5 * B_inv @ N}')\n",
    "print(f'c_b * b^{-1} b = {c_b @ B_inv @ b}')\n",
    "print(f'1/5 *( c_n - c_b * B^{-1} N) = {5 * (c_n - c_b @ B_inv @ N)}')"
   ]
  },
  {
   "cell_type": "code",
   "execution_count": 17,
   "id": "606f1210-6f52-451c-9e2a-6d37a07e71c5",
   "metadata": {},
   "outputs": [
    {
     "data": {
      "text/plain": [
       "array([[  3.,   2.,   1.],\n",
       "       [ -1., -19.,  -2.]])"
      ]
     },
     "execution_count": 17,
     "metadata": {},
     "output_type": "execute_result"
    }
   ],
   "source": [
    "5 * B_inv @ N"
   ]
  },
  {
   "cell_type": "code",
   "execution_count": null,
   "id": "a47446b6-a2f8-4fd0-a3c7-4922d5e84306",
   "metadata": {},
   "outputs": [],
   "source": []
  }
 ],
 "metadata": {
  "kernelspec": {
   "display_name": "Python 3 (ipykernel)",
   "language": "python",
   "name": "python3"
  },
  "language_info": {
   "codemirror_mode": {
    "name": "ipython",
    "version": 3
   },
   "file_extension": ".py",
   "mimetype": "text/x-python",
   "name": "python",
   "nbconvert_exporter": "python",
   "pygments_lexer": "ipython3",
   "version": "3.10.14"
  }
 },
 "nbformat": 4,
 "nbformat_minor": 5
}
