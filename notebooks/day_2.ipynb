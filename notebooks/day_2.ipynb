{
 "cells": [
  {
   "cell_type": "code",
   "execution_count": 1,
   "id": "f53c3d9f-9220-4259-8f6f-fea6c55d00a8",
   "metadata": {},
   "outputs": [],
   "source": [
    "import pulp as pl\n",
    "import numpy as np"
   ]
  },
  {
   "cell_type": "code",
   "execution_count": 2,
   "id": "7ad8ae01-4e82-4e77-a19b-739c409409bb",
   "metadata": {},
   "outputs": [
    {
     "name": "stdout",
     "output_type": "stream",
     "text": [
      "Welcome to the CBC MILP Solver \n",
      "Version: 2.10.10 \n",
      "Build Date: Sep 26 2023 \n",
      "\n",
      "command line - /usr/local/lib/python3.10/site-packages/pulp/solverdir/cbc/linux/arm64/cbc /tmp/1993e6af05a64e8ab6b5b41193ec11ef-pulp.mps -max -timeMode elapsed -branch -printingOptions all -solution /tmp/1993e6af05a64e8ab6b5b41193ec11ef-pulp.sol (default strategy 1)\n",
      "At line 2 NAME          MODEL\n",
      "At line 3 ROWS\n",
      "At line 8 COLUMNS\n",
      "At line 15 RHS\n",
      "At line 19 BOUNDS\n",
      "At line 20 ENDATA\n",
      "Problem MODEL has 3 rows, 2 columns and 4 elements\n",
      "Coin0008I MODEL read with 0 errors\n",
      "Option for timeMode changed from cpu to elapsed\n",
      "Presolve 1 (-2) rows, 2 (0) columns and 2 (-2) elements\n",
      "0  Obj -0 Dual inf 28.999998 (2)\n",
      "1  Obj 615\n",
      "Optimal - objective value 615\n",
      "After Postsolve, objective 615, infeasibilities - dual 0 (0), primal 0 (0)\n",
      "Optimal objective 615 - 1 iterations time 0.002, Presolve 0.00\n",
      "Option for printingOptions changed from normal to all\n",
      "Total time (CPU seconds):       0.00   (Wallclock seconds):       0.01\n",
      "\n",
      "Optimal solution:\n",
      "t_1 = 25.0\n",
      "t_2 = 15.0\n",
      "Objective =  615.0\n"
     ]
    }
   ],
   "source": [
    "# 問題の定義\n",
    "prob = pl.LpProblem(\"day2_example\", pl.LpMaximize)\n",
    "\n",
    "# 変数の定義\n",
    "t_1 = pl.LpVariable(\"t_1\", lowBound=0)\n",
    "t_2 = pl.LpVariable(\"t_2\", lowBound=0)\n",
    "\n",
    "# 目的関数の定義\n",
    "prob += 18*t_1 + 11*t_2\n",
    "\n",
    "# 制約条件の定義\n",
    "prob += t_1 + t_2 <= 40\n",
    "prob += 2*t_1 <= 50\n",
    "prob += t_2 <= 25\n",
    "\n",
    "# 問題を解く\n",
    "prob.solve()\n",
    "\n",
    "# 結果の表示\n",
    "print(f\"{pl.LpStatus[prob.status]} solution:\")\n",
    "for v in prob.variables():\n",
    "    print(v.name, \"=\", v.varValue)\n",
    "print(\"Objective = \", pl.value(prob.objective))"
   ]
  },
  {
   "cell_type": "code",
   "execution_count": null,
   "id": "1af2c109-31f7-4aa1-b1b5-25f0b144d731",
   "metadata": {},
   "outputs": [],
   "source": []
  }
 ],
 "metadata": {
  "kernelspec": {
   "display_name": "Python 3 (ipykernel)",
   "language": "python",
   "name": "python3"
  },
  "language_info": {
   "codemirror_mode": {
    "name": "ipython",
    "version": 3
   },
   "file_extension": ".py",
   "mimetype": "text/x-python",
   "name": "python",
   "nbconvert_exporter": "python",
   "pygments_lexer": "ipython3",
   "version": "3.10.14"
  }
 },
 "nbformat": 4,
 "nbformat_minor": 5
}
